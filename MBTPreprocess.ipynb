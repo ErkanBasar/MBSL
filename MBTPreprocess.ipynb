{
 "cells": [
  {
   "cell_type": "code",
   "execution_count": 1,
   "metadata": {
    "collapsed": false
   },
   "outputs": [],
   "source": [
    "import os\n",
    "import re\n",
    "import sys\n",
    "import json\n",
    "import glob\n",
    "from datetime import datetime\n",
    "\n",
    "import subprocess\n",
    "\n",
    "import numpy as np\n",
    "import pandas as pd\n",
    "\n",
    "from sklearn import metrics\n",
    "\n",
    "from pynlpl.formats import folia"
   ]
  },
  {
   "cell_type": "code",
   "execution_count": 2,
   "metadata": {
    "collapsed": true
   },
   "outputs": [],
   "source": [
    "inputfolder = \"data/EIFD-FlatData\"\n",
    "foliaset = 'https://raw.githubusercontent.com/ErkanBasar/mebasarcom/master/eifd.foliaset.xml'"
   ]
  },
  {
   "cell_type": "code",
   "execution_count": 3,
   "metadata": {
    "collapsed": false
   },
   "outputs": [
    {
     "name": "stdout",
     "output_type": "stream",
     "text": [
      "13% of the documents are annotated (37/243)\n"
     ]
    }
   ],
   "source": [
    "total = len([xfile for xfile in glob.glob(inputfolder + \"/*.folia.xml\")])\n",
    "annotdocs = [xfile for xfile in glob.glob(inputfolder +\"/*.folia.xml\") if folia.Document(file=xfile).declared(folia.Entity, foliaset)]\n",
    "\n",
    "count = len(annotdocs)\n",
    "print(str(int((100*count)/total)) + '% of the documents are annotated (' + str(count) + '/' + str(total - count) + ')')"
   ]
  },
  {
   "cell_type": "code",
   "execution_count": 100,
   "metadata": {
    "collapsed": true
   },
   "outputs": [],
   "source": [
    "stopwords = []"
   ]
  },
  {
   "cell_type": "markdown",
   "metadata": {},
   "source": [
    "## Feature Extraction"
   ]
  },
  {
   "cell_type": "code",
   "execution_count": 101,
   "metadata": {
    "collapsed": true
   },
   "outputs": [],
   "source": [
    "class Token(object):\n",
    "    \n",
    "    def __init__(self, folia_obj):\n",
    "        self.obj = folia_obj\n",
    "        \n",
    "        self.cls = \"O\"\n",
    "        self.ner = \"---\"\n",
    "        self.previous = None\n",
    "        self.next = None\n",
    "        \n",
    "        if(self.obj is None):\n",
    "            self.foliaId = \"\"\n",
    "            self.text = \"\"\n",
    "            self.pos = \"\"\n",
    "            self.isTitleCase = \"\"\n",
    "            self.wordClass = \"\"\n",
    "        else:\n",
    "            self.foliaId = self.obj.id\n",
    "            self.text = self.obj.text().lower()\n",
    "            self.pos = self.obj.pos()\n",
    "            self.isTitleCase = str(self.obj.text().istitle())\n",
    "            self.wordClass = self.obj.cls\n",
    "\n",
    "    def getClass(self):\n",
    "        if(self.obj is not None):\n",
    "            for entity in self.obj.findspans(folia.Entity):\n",
    "                if(entity.annotatortype == folia.AnnotatorType.MANUAL):\n",
    "                    self.cls = \"B.\" + entity.cls\n",
    "                    if(self.previous == None):\n",
    "                        self.cls = \"B.\" + entity.cls \n",
    "                    else:\n",
    "                        for prevEntitiy in self.previous.findspans(folia.Entity):\n",
    "                            if(entity.id == prevEntitiy.id and prevEntitiy.annotatortype == folia.AnnotatorType.MANUAL):\n",
    "                                self.cls = \"I.\" + entity.cls\n",
    "        return self.cls\n",
    "    \n",
    "    def getNer(self):\n",
    "        if(self.obj is not None):\n",
    "            for entity in self.obj.findspans(folia.Entity):\n",
    "                if(entity.annotator == 'nltk-stanford'):\n",
    "                    self.ner = entity.cls\n",
    "        return self.ner\n",
    "    \n",
    "    def getPrevious(self):\n",
    "        if self.obj is not None and self.obj.previous(folia.Word, [folia.Sentence]) is not None:\n",
    "            self.previous = self.obj.previous(folia.Word, [folia.Sentence])\n",
    "            while True:\n",
    "                if self.previous is not None:\n",
    "                    if self.previous.text().lower() in stopwords:\n",
    "                        self.previous = self.previous.previous(folia.Word, [folia.Sentence])\n",
    "                    else:\n",
    "                        break\n",
    "                else:\n",
    "                    break\n",
    "        return self.previous\n",
    "    \n",
    "    def getNext(self):\n",
    "        if self.obj is not None and self.obj.next(folia.Word, [folia.Sentence]) is not None:\n",
    "            self.next = self.obj.next(folia.Word, [folia.Sentence])\n",
    "            while True:\n",
    "                if self.next is not None:\n",
    "                    if self.next.text().lower() in stopwords:\n",
    "                        self.next = self.next.next(folia.Word, [folia.Sentence])\n",
    "                    else:\n",
    "                        break\n",
    "                else:\n",
    "                    break\n",
    "        return self.next\n",
    "    \n",
    "    def kill(self):\n",
    "        del self"
   ]
  },
  {
   "cell_type": "code",
   "execution_count": 105,
   "metadata": {
    "collapsed": true
   },
   "outputs": [],
   "source": [
    "def createLine(token):\n",
    "    token.getPrevious()\n",
    "    line = str(token.text + ' ' + token.pos + ' ' + token.getNer() + ' ' + token.getClass() + '\\n')\n",
    "    return line"
   ]
  },
  {
   "cell_type": "code",
   "execution_count": 106,
   "metadata": {
    "collapsed": false
   },
   "outputs": [],
   "source": [
    "def createMBTFile(filelist, outfile, testrun=False):\n",
    "    \n",
    "    excludedclasses = []#[\"B.dmg.ppl.miss\",\"B.dmg.bus\",\"I.dmg.bus\",\"I.dmg.ppl.miss\",\"B.loc.supp\",\"I.loc.supp\",\"B.loc.other\",\"I.loc.other\",\"B.resp.supply\",\"I.resp.supply\",\"B.dmg.econ\",\"I.dmg.econ\"]\n",
    "    \n",
    "    filelist = [filelist] if(type(filelist) == str) else filelist\n",
    "\n",
    "    if(type(filelist) == list and len(filelist) >= 1):\n",
    "\n",
    "        for filepath in filelist:\n",
    "            for doc in folia.Document(file=filepath):\n",
    "                for sentence in doc.sentences():\n",
    "                    for word in sentence.words():\n",
    "\n",
    "                            token = Token(word)\n",
    "                            \n",
    "                            tokenClass = token.getClass()\n",
    "                            \n",
    "                            if(tokenClass in excludedclasses):\n",
    "                                tokenClass = \"O\"\n",
    "                            \n",
    "                            if(testrun is True):\n",
    "                                if(tokenClass != \"O\"):\n",
    "                                    outfile.write(createLine(token))\n",
    "                            else:\n",
    "                                outfile.write(createLine(token))\n",
    "\n",
    "                    outfile.write(\"<utt>\\n\")\n",
    "                    \n",
    "            #print(filepath)\n",
    "\n",
    "    else:\n",
    "        print('Input may be wrong. It should be a list of file paths or a single string file path.')\n",
    "        print('Input type you tried: ' + str(type(filelist)))\n",
    "        sys.exit()"
   ]
  },
  {
   "cell_type": "code",
   "execution_count": 107,
   "metadata": {
    "collapsed": false
   },
   "outputs": [
    {
     "data": {
      "text/plain": [
       "29"
      ]
     },
     "execution_count": 107,
     "metadata": {},
     "output_type": "execute_result"
    }
   ],
   "source": [
    "splt = int((80 * len(annotdocs)) / 100.0)\n",
    "splt"
   ]
  },
  {
   "cell_type": "code",
   "execution_count": 108,
   "metadata": {
    "collapsed": true
   },
   "outputs": [],
   "source": [
    "trainlist = annotdocs[:splt]\n",
    "testlist = annotdocs[splt:]"
   ]
  },
  {
   "cell_type": "code",
   "execution_count": 109,
   "metadata": {
    "collapsed": false
   },
   "outputs": [],
   "source": [
    "trainingData = open('data/MBTData/MBTTrain.data', \"w\")\n",
    "\n",
    "createMBTFile(trainlist, trainingData)\n",
    "\n",
    "trainingData.close()"
   ]
  },
  {
   "cell_type": "code",
   "execution_count": 110,
   "metadata": {
    "collapsed": false
   },
   "outputs": [],
   "source": [
    "testData = open('data/MBTData/MBTTest.data', \"w\")\n",
    "\n",
    "createMBTFile(testlist, testData)\n",
    "\n",
    "testData.close()"
   ]
  },
  {
   "cell_type": "markdown",
   "metadata": {},
   "source": [
    "## Run MBT"
   ]
  },
  {
   "cell_type": "code",
   "execution_count": 111,
   "metadata": {
    "collapsed": false
   },
   "outputs": [
    {
     "data": {
      "text/plain": [
       "0"
      ]
     },
     "execution_count": 111,
     "metadata": {},
     "output_type": "execute_result"
    }
   ],
   "source": [
    "p = subprocess.Popen([\"mbtg\",\"-E\",\"MBTTrain.data\",\"-p\",\"ddfaa\",\"-P\",\"ddfaapsss\"], cwd=\"data/MBTData\")\n",
    "p.wait()"
   ]
  },
  {
   "cell_type": "code",
   "execution_count": 112,
   "metadata": {
    "collapsed": false
   },
   "outputs": [
    {
     "data": {
      "text/plain": [
       "0"
      ]
     },
     "execution_count": 112,
     "metadata": {},
     "output_type": "execute_result"
    }
   ],
   "source": [
    "testOut = open('data/MBTData/test.out', 'w') \n",
    "p = subprocess.Popen([\"mbt\",\"-s\",\"MBTTrain.data.settings\",\"-E\",\"MBTTest.data\"], stdout=testOut, cwd=\"data/MBTData\")\n",
    "p.wait()"
   ]
  },
  {
   "cell_type": "code",
   "execution_count": 67,
   "metadata": {
    "collapsed": false
   },
   "outputs": [
    {
     "data": {
      "text/plain": [
       "0"
      ]
     },
     "execution_count": 67,
     "metadata": {},
     "output_type": "execute_result"
    }
   ],
   "source": [
    "# %100 train\n",
    "testOut = open('data/MBTData/test.out', 'w') \n",
    "p = subprocess.Popen([\"mbt\",\"-s\",\"MBTTrain.data.settings\",\"-E\",\"MBTTrain.data\"], stdout=testOut, cwd=\"data/MBTData\")\n",
    "p.wait()"
   ]
  },
  {
   "cell_type": "markdown",
   "metadata": {},
   "source": [
    "## Evaluation"
   ]
  },
  {
   "cell_type": "code",
   "execution_count": 113,
   "metadata": {
    "collapsed": false
   },
   "outputs": [],
   "source": [
    "testOut = open('data/MBTData/test.out', \"r\")\n",
    "\n",
    "lines = testOut.readlines()\n",
    "\n",
    "Y = []\n",
    "predictions = []\n",
    "\n",
    "for line in lines[7:]:\n",
    "    \n",
    "    spacesplt = line.split(\" \")\n",
    "    \n",
    "    if(len(spacesplt) > 1):\n",
    "        \n",
    "        tabsplt = spacesplt[1].split(\"\\t\")\n",
    "\n",
    "        y = tabsplt[1]\n",
    "        Y.append(y)\n",
    "        \n",
    "        prediction = tabsplt[2].split(\"\\n\")[0]\n",
    "        predictions.append(prediction)"
   ]
  },
  {
   "cell_type": "code",
   "execution_count": 114,
   "metadata": {
    "collapsed": false
   },
   "outputs": [
    {
     "data": {
      "text/plain": [
       "['B.dmg.ppl.evac',\n",
       " 'B.dmg.ppl.kill',\n",
       " 'B.dmg.prop',\n",
       " 'B.event.flood',\n",
       " 'B.loc.focus',\n",
       " 'B.loc.other',\n",
       " 'B.loc.supp',\n",
       " 'B.resp.donat',\n",
       " 'B.resp.supply',\n",
       " 'B.time',\n",
       " 'I.dmg.ppl.evac',\n",
       " 'I.dmg.ppl.kill',\n",
       " 'I.dmg.prop',\n",
       " 'I.event.flood',\n",
       " 'I.loc.focus',\n",
       " 'I.loc.other',\n",
       " 'I.loc.supp',\n",
       " 'I.resp.donat',\n",
       " 'I.resp.supply',\n",
       " 'I.time']"
      ]
     },
     "execution_count": 114,
     "metadata": {},
     "output_type": "execute_result"
    }
   ],
   "source": [
    "labels = sorted([label for label in list(set(Y)) if label not in ['O']])\n",
    "labels"
   ]
  },
  {
   "cell_type": "code",
   "execution_count": 70,
   "metadata": {
    "collapsed": false
   },
   "outputs": [
    {
     "name": "stdout",
     "output_type": "stream",
     "text": [
      "                precision    recall  f1-score   support\n",
      "\n",
      "     B.dmg.bus       1.00      1.00      1.00         5\n",
      "    B.dmg.econ       1.00      1.00      1.00        36\n",
      "B.dmg.ppl.evac       1.00      0.88      0.94        83\n",
      "B.dmg.ppl.kill       0.95      0.85      0.90       148\n",
      "B.dmg.ppl.miss       1.00      1.00      1.00         1\n",
      "    B.dmg.prop       0.99      0.72      0.83       142\n",
      " B.event.flood       0.89      0.64      0.74       368\n",
      "   B.loc.focus       0.94      0.53      0.68       225\n",
      "   B.loc.other       1.00      0.82      0.90        71\n",
      "    B.loc.supp       1.00      0.77      0.87        47\n",
      "  B.resp.donat       1.00      1.00      1.00        72\n",
      " B.resp.supply       0.98      0.75      0.85       113\n",
      "        B.time       0.94      0.62      0.75       154\n",
      "\n",
      "   avg / total       0.95      0.71      0.81      1465\n",
      "\n"
     ]
    }
   ],
   "source": [
    "# 100% train\n",
    "print(metrics.classification_report(Y, predictions, labels=labels))"
   ]
  },
  {
   "cell_type": "code",
   "execution_count": 90,
   "metadata": {
    "collapsed": false
   },
   "outputs": [
    {
     "name": "stdout",
     "output_type": "stream",
     "text": [
      "                precision    recall  f1-score   support\n",
      "\n",
      "B.dmg.ppl.evac       0.00      0.00      0.00         7\n",
      "B.dmg.ppl.kill       0.34      0.44      0.39        25\n",
      "    B.dmg.prop       0.40      0.14      0.21        43\n",
      " B.event.flood       0.55      0.49      0.52        90\n",
      "   B.loc.focus       0.41      0.17      0.24        77\n",
      "   B.loc.other       0.09      0.17      0.12         6\n",
      "    B.loc.supp       0.00      0.00      0.00        29\n",
      "  B.resp.donat       1.00      0.25      0.40        28\n",
      " B.resp.supply       0.00      0.00      0.00        57\n",
      "        B.time       0.31      0.16      0.21        25\n",
      "\n",
      "   avg / total       0.37      0.22      0.26       387\n",
      "\n"
     ]
    }
   ],
   "source": [
    "# %90 train \n",
    "print(metrics.classification_report(Y, predictions, labels=labels))"
   ]
  },
  {
   "cell_type": "code",
   "execution_count": 115,
   "metadata": {
    "collapsed": false
   },
   "outputs": [
    {
     "name": "stdout",
     "output_type": "stream",
     "text": [
      "                precision    recall  f1-score   support\n",
      "\n",
      "B.dmg.ppl.evac       0.00      0.00      0.00         3\n",
      "B.dmg.ppl.kill       0.27      0.29      0.28        14\n",
      "    B.dmg.prop       0.38      0.23      0.29        22\n",
      " B.event.flood       0.49      0.37      0.42        63\n",
      "   B.loc.focus       0.33      0.15      0.21        52\n",
      "   B.loc.other       0.20      0.25      0.22         4\n",
      "    B.loc.supp       0.00      0.00      0.00        13\n",
      "  B.resp.donat       1.00      0.22      0.36         9\n",
      " B.resp.supply       0.00      0.00      0.00        23\n",
      "        B.time       0.15      0.15      0.15        13\n",
      "I.dmg.ppl.evac       0.00      0.00      0.00         4\n",
      "I.dmg.ppl.kill       0.30      0.55      0.39        11\n",
      "    I.dmg.prop       0.00      0.00      0.00        21\n",
      " I.event.flood       0.48      0.41      0.44        27\n",
      "   I.loc.focus       0.43      0.24      0.31        25\n",
      "   I.loc.other       0.00      0.00      0.00         2\n",
      "    I.loc.supp       0.00      0.00      0.00        16\n",
      "  I.resp.donat       1.00      0.26      0.42        19\n",
      " I.resp.supply       0.00      0.00      0.00        34\n",
      "        I.time       0.00      0.00      0.00        12\n",
      "\n",
      "   avg / total       0.31      0.19      0.22       387\n",
      "\n"
     ]
    }
   ],
   "source": [
    "# %80 train\n",
    "print(metrics.classification_report(Y, predictions, labels=labels))"
   ]
  },
  {
   "cell_type": "code",
   "execution_count": 80,
   "metadata": {
    "collapsed": false
   },
   "outputs": [
    {
     "name": "stdout",
     "output_type": "stream",
     "text": [
      "                precision    recall  f1-score   support\n",
      "\n",
      "     B.dmg.bus       0.00      0.00      0.00         3\n",
      "    B.dmg.econ       0.00      0.00      0.00         6\n",
      "B.dmg.ppl.evac       0.40      0.12      0.18        50\n",
      "B.dmg.ppl.kill       0.36      0.32      0.34        66\n",
      "    B.dmg.prop       0.16      0.06      0.09        69\n",
      " B.event.flood       0.43      0.36      0.39       193\n",
      "   B.loc.focus       0.32      0.15      0.20       143\n",
      "   B.loc.other       0.29      0.16      0.21        37\n",
      "    B.loc.supp       0.00      0.00      0.00        45\n",
      "  B.resp.donat       0.00      0.00      0.00        66\n",
      " B.resp.supply       0.00      0.00      0.00        64\n",
      "        B.time       0.20      0.18      0.19        65\n",
      "\n",
      "   avg / total       0.26      0.17      0.20       807\n",
      "\n"
     ]
    },
    {
     "name": "stderr",
     "output_type": "stream",
     "text": [
      "/Users/ebasar/lamachine/lib/python3.5/site-packages/sklearn/metrics/classification.py:1113: UndefinedMetricWarning: Precision and F-score are ill-defined and being set to 0.0 in labels with no predicted samples.\n",
      "  'precision', 'predicted', average, warn_for)\n"
     ]
    }
   ],
   "source": [
    "# %50 train\n",
    "print(metrics.classification_report(Y, predictions, labels=labels))"
   ]
  },
  {
   "cell_type": "code",
   "execution_count": null,
   "metadata": {
    "collapsed": true
   },
   "outputs": [],
   "source": []
  }
 ],
 "metadata": {
  "kernelspec": {
   "display_name": "Python 3",
   "language": "python",
   "name": "python3"
  },
  "language_info": {
   "codemirror_mode": {
    "name": "ipython",
    "version": 3
   },
   "file_extension": ".py",
   "mimetype": "text/x-python",
   "name": "python",
   "nbconvert_exporter": "python",
   "pygments_lexer": "ipython3",
   "version": "3.5.1"
  }
 },
 "nbformat": 4,
 "nbformat_minor": 2
}
