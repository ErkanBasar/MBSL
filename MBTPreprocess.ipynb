{
 "cells": [
  {
   "cell_type": "code",
   "execution_count": 45,
   "metadata": {
    "collapsed": false
   },
   "outputs": [],
   "source": [
    "import os\n",
    "import re\n",
    "import sys\n",
    "import json\n",
    "import glob\n",
    "import pickle\n",
    "from datetime import datetime\n",
    "import subprocess\n",
    "from collections import Counter\n",
    "\n",
    "import numpy as np\n",
    "import pandas as pd\n",
    "\n",
    "from nltk.corpus import stopwords as sw\n",
    "\n",
    "import matplotlib.pyplot as plt\n",
    "import scikitplot.plotters as skplt\n",
    "\n",
    "from sklearn import metrics\n",
    "\n",
    "from pynlpl.formats import folia\n",
    "\n",
    "# Customs\n",
    "import get_folia_tokens as gft\n",
    "\n",
    "%matplotlib inline"
   ]
  },
  {
   "cell_type": "code",
   "execution_count": 2,
   "metadata": {
    "collapsed": false
   },
   "outputs": [],
   "source": [
    "def getAnnotatedDocs(inputfolder, foliaset):\n",
    "    return [xfile for xfile in glob.glob(inputfolder +\"/*.folia.xml\") if folia.Document(file=xfile).declared(folia.Entity, foliaset)]"
   ]
  },
  {
   "cell_type": "code",
   "execution_count": 3,
   "metadata": {
    "collapsed": true
   },
   "outputs": [],
   "source": [
    "inputfolder = \"../EIFD/data/EIFD-FlatData\"\n",
    "mbtFolder = 'data/MBTData/'\n",
    "foliaset = 'https://raw.githubusercontent.com/ErkanBasar/mebasarcom/master/eifd.foliaset.xml'"
   ]
  },
  {
   "cell_type": "code",
   "execution_count": 4,
   "metadata": {
    "collapsed": false
   },
   "outputs": [],
   "source": [
    "annotdocs = getAnnotatedDocs(inputfolder, foliaset)"
   ]
  },
  {
   "cell_type": "code",
   "execution_count": 5,
   "metadata": {
    "collapsed": false
   },
   "outputs": [
    {
     "data": {
      "text/plain": [
       "22"
      ]
     },
     "execution_count": 5,
     "metadata": {},
     "output_type": "execute_result"
    }
   ],
   "source": [
    "splt = int((50 * len(annotdocs)) / 100.0)\n",
    "splt"
   ]
  },
  {
   "cell_type": "code",
   "execution_count": 6,
   "metadata": {
    "collapsed": false
   },
   "outputs": [],
   "source": [
    "trainlist = annotdocs[:splt]\n",
    "testlist = annotdocs[splt:]"
   ]
  },
  {
   "cell_type": "markdown",
   "metadata": {},
   "source": [
    "## Feature Extraction"
   ]
  },
  {
   "cell_type": "code",
   "execution_count": 11,
   "metadata": {
    "collapsed": true
   },
   "outputs": [],
   "source": [
    "notstop = ['this', 'until', 'about', 'above' , 'over' , 'under' , 'more', 'some', 'few', 'than', 'now', 'at']\n",
    "stopwords = [word for word in sw.words('english') if word not in notstop]"
   ]
  },
  {
   "cell_type": "code",
   "execution_count": 12,
   "metadata": {
    "collapsed": true
   },
   "outputs": [],
   "source": [
    "excludedclasses = ['dmg.bus', 'dmg.ppl.inj', 'dmg.econ', 'dmg.ppl.miss', 'dmg.ppl.evac', 'dmg.ppl.kill', 'dmg.prop', 'resp.donat', 'resp.supply']"
   ]
  },
  {
   "cell_type": "code",
   "execution_count": 18,
   "metadata": {
    "collapsed": false
   },
   "outputs": [],
   "source": [
    "class Token(object):\n",
    "    \n",
    "    def __init__(self, folia_obj):\n",
    "        self.obj = folia_obj\n",
    "        \n",
    "        self.cls = \"O\"\n",
    "        self.ner = \"---\"\n",
    "        self.previous = None\n",
    "        self.next = None\n",
    "        \n",
    "        if(self.obj is None):\n",
    "            self.foliaId = \"---\"\n",
    "            self.text = \"---\"\n",
    "            self.pos = \"---\"\n",
    "        else:\n",
    "            self.foliaId = self.obj.id\n",
    "            self.text = self.obj.text()\n",
    "            self.pos = self.obj.pos()\n",
    "\n",
    "\n",
    "    def getClass(self):\n",
    "        if(self.obj is not None):\n",
    "            for entity in self.obj.findspans(folia.Entity):\n",
    "                if(entity.annotatortype == folia.AnnotatorType.MANUAL):\n",
    "                    if(entity.cls not in excludedclasses):\n",
    "                        if(entity.cls == 'loc.other'):\n",
    "                            entityclass = 'loc.focus' \n",
    "                        else:\n",
    "                            entityclass = entity.cls \n",
    "                        self.cls = \"B.\" + entityclass\n",
    "                        if(self.previous == None):\n",
    "                            self.cls = \"B.\" + entityclass \n",
    "                        else:\n",
    "                            for prevEntity in self.previous.findspans(folia.Entity):\n",
    "                                if(entity.id == prevEntity.id and prevEntity.annotatortype == folia.AnnotatorType.MANUAL):\n",
    "                                    self.cls = \"I.\" + entityclass\n",
    "        return self.cls\n",
    "    \n",
    "    def getNer(self):\n",
    "        if(self.obj is not None):\n",
    "            for entity in self.obj.findspans(folia.Entity):\n",
    "                if(entity.annotator == 'nltk-stanford'):\n",
    "                    self.ner = entity.cls\n",
    "        return self.ner\n",
    "    \n",
    "    def getPrevious(self):\n",
    "        if self.obj is not None and self.obj.previous(folia.Word, [folia.Sentence]) is not None:\n",
    "            self.previous = self.obj.previous(folia.Word, [folia.Sentence])\n",
    "        return self.previous\n",
    "    \n",
    "    def getNext(self):\n",
    "        if self.obj is not None and self.obj.next(folia.Word, [folia.Sentence]) is not None:\n",
    "            self.next = self.obj.next(folia.Word, [folia.Sentence])\n",
    "        return self.next\n",
    "    \n",
    "    def kill(self):\n",
    "        del self"
   ]
  },
  {
   "cell_type": "code",
   "execution_count": 19,
   "metadata": {
    "collapsed": true
   },
   "outputs": [],
   "source": [
    "def createLine(token, classProb):\n",
    "    \n",
    "    #features = {}\n",
    "    \n",
    "    # Object Initialization\n",
    "    prevToken = Token(token.getPrevious())\n",
    "    #prevPrevToken = Token(prevToken.getPrevious())\n",
    "    #nextToken = Token(token.getNext())\n",
    "    #nextNextToken = Token(nextToken.getNext())\n",
    "    \n",
    "    # Add class probabilities of the sentence\n",
    "    #features.update(classProb)\n",
    "    \n",
    "    # Token \n",
    "    #features['pos'] = token.pos\n",
    "    #features['ner'] = token.getNer()\n",
    "    \n",
    "    # Previous (-1)\n",
    "    #features['-1:pos'] = prevToken.pos\n",
    "    #features['-1:ner'] = prevToken.getNer()    \n",
    "\n",
    "    # Next (+1)\n",
    "    #features['+1:pos'] = nextToken.pos\n",
    "    #features['+1:ner'] = nextToken.getNer()  \n",
    "    \n",
    "    # Previous (-2)\n",
    "    #features['-2:pos'] = prevPrevToken.pos\n",
    "    #features['-2:ner'] = prevPrevToken.getNer()  \n",
    "\n",
    "    # Next (+2)\n",
    "    #features['+2:pos'] = nextNextToken.pos\n",
    "    #features['+2:ner'] = nextNextToken.getNer() \n",
    "    \n",
    "    #features['foliaId'] = token.foliaId \n",
    "    \n",
    "    line = token.text + ' ' + token.pos + ' ' + token.getNer() + ' '\n",
    "    #for k,v in features.items():\n",
    "    #    line += str(v) + ' '\n",
    "    \n",
    "    line = line + str(token.getClass()) + '\\n'\n",
    "    return line"
   ]
  },
  {
   "cell_type": "code",
   "execution_count": 26,
   "metadata": {
    "collapsed": false
   },
   "outputs": [
    {
     "data": {
      "text/plain": [
       "'Floods NNS --- B.event.flood\\n'"
      ]
     },
     "execution_count": 26,
     "metadata": {},
     "output_type": "execute_result"
    }
   ],
   "source": [
    "doc = folia.Document(file=annotdocs[0])\n",
    "createLine(Token(doc['content0.p.1.s.1.w.1']), [], test=False)"
   ]
  },
  {
   "cell_type": "code",
   "execution_count": 17,
   "metadata": {
    "collapsed": false
   },
   "outputs": [],
   "source": [
    "def createMBTFile(filelist, outfilepath, testrun=False):\n",
    "    \n",
    "    #allClasses = pickle.load(open(\"data/Classifiers/sentenceBinarizer.pickle\", \"rb\")).classes_\n",
    "    #possibleCVLabels = pickle.load(open(\"data/Classifiers/possibleCVLabels.pickle\", \"rb\"))\n",
    "    #sentenceClassifier = pickle.load(open(\"data/Classifiers/sentenceClassifier.pickle\", \"rb\"))\n",
    "    \n",
    "    filelist = [filelist] if(type(filelist) == str) else filelist\n",
    "\n",
    "    if(type(filelist) == list and len(filelist) >= 1):\n",
    "        \n",
    "        outfile = open(outfilepath, \"w\")\n",
    "\n",
    "        for filepath in filelist:\n",
    "            for doc in folia.Document(file=filepath):\n",
    "                for sentence in doc.sentences():\n",
    "                    \n",
    "                    #possibleLabels = possibleCVLabels[sentence.id]\n",
    "                    #possibleLabels = sentenceClassifier.decision_function([sentence.id])[0]\n",
    "                    classProb = []#dict(zip(allClasses, possibleLabels))\n",
    "                    \n",
    "                    #for cls in excludedclasses:\n",
    "                    #    if cls in classProb:\n",
    "                    #        del classProb[cls]\n",
    "                    #del classProb['loc.other']\n",
    "                    \n",
    "                    for word in sentence.words():\n",
    "                        \n",
    "                            #if word.text().lower() not in stopwords:\n",
    "                            \n",
    "                                token = Token(word)\n",
    "\n",
    "                                tokenClass = token.getClass()\n",
    "\n",
    "                                if(testrun is True):\n",
    "                                    if(tokenClass != \"O\"):\n",
    "                                        outfile.write(createLine(token, classProb))\n",
    "                                else:\n",
    "                                    outfile.write(createLine(token, classProb))\n",
    "\n",
    "                    outfile.write(\"<utt>\\n\")\n",
    "                    \n",
    "            #print(filepath)\n",
    "\n",
    "        outfile.close()\n",
    "    else:\n",
    "        print('Input may be wrong. It should be a list of file paths or a single string file path.')\n",
    "        print('Input type you tried: ' + str(type(filelist)))\n",
    "        sys.exit()"
   ]
  },
  {
   "cell_type": "code",
   "execution_count": 52,
   "metadata": {
    "collapsed": false
   },
   "outputs": [],
   "source": [
    "createMBTFile(trainlist, 'data/MBTData/MBTTrain.data')"
   ]
  },
  {
   "cell_type": "code",
   "execution_count": 54,
   "metadata": {
    "collapsed": false
   },
   "outputs": [],
   "source": [
    "createMBTFile(testlist, 'data/MBTData/MBTTest.data')"
   ]
  },
  {
   "cell_type": "markdown",
   "metadata": {},
   "source": [
    "## Run MBT"
   ]
  },
  {
   "cell_type": "code",
   "execution_count": 55,
   "metadata": {
    "collapsed": false
   },
   "outputs": [
    {
     "data": {
      "text/plain": [
       "0"
      ]
     },
     "execution_count": 55,
     "metadata": {},
     "output_type": "execute_result"
    }
   ],
   "source": [
    "p = subprocess.Popen([\"mbtg\",\"-E\",\"MBTTrain.data\",\"-p\",\"dwdwfWawaw\",\"-P\",\"cndwdwFawaw\"], cwd=\"data/MBTData\")\n",
    "p.wait()"
   ]
  },
  {
   "cell_type": "code",
   "execution_count": 56,
   "metadata": {
    "collapsed": false
   },
   "outputs": [
    {
     "data": {
      "text/plain": [
       "0"
      ]
     },
     "execution_count": 56,
     "metadata": {},
     "output_type": "execute_result"
    }
   ],
   "source": [
    "testOut = open('data/MBTData/test.out', 'w') \n",
    "p = subprocess.Popen([\"mbt\",\"-s\",\"MBTTrain.data.settings\",\"-E\",\"MBTTest.data\"], stdout=testOut, cwd=\"data/MBTData\")\n",
    "p.wait()"
   ]
  },
  {
   "cell_type": "raw",
   "metadata": {
    "collapsed": false
   },
   "source": [
    "# %100 train\n",
    "testOut = open('data/MBTData/test.out', 'w') \n",
    "p = subprocess.Popen([\"mbt\",\"-s\",\"MBTTrain.data.settings\",\"-E\",\"MBTTrain.data\"], stdout=testOut, cwd=\"data/MBTData\")\n",
    "p.wait()"
   ]
  },
  {
   "cell_type": "markdown",
   "metadata": {},
   "source": [
    "## Evaluation"
   ]
  },
  {
   "cell_type": "code",
   "execution_count": 57,
   "metadata": {
    "collapsed": true
   },
   "outputs": [],
   "source": [
    "def integerizeLabels(y, labels, algorithm=None):\n",
    "    '''Maps the labels in a list to their corresponding indexes in unique label list.'''\n",
    "    int_list = []\n",
    "    labels_o = labels.copy()\n",
    "    labels_o.append('O')\n",
    "    for cls in y:\n",
    "        int_list.append(labels_o.index(cls))    \n",
    "    return int_list"
   ]
  },
  {
   "cell_type": "code",
   "execution_count": 58,
   "metadata": {
    "collapsed": true
   },
   "outputs": [],
   "source": [
    "def singleEvalGraphs(Y, P, labels):\n",
    "    Yint = integerizeLabels(Y, labels, algorithm=None)\n",
    "    Pint = integerizeLabels(P, labels, algorithm=None)\n",
    "    skplt.plot_confusion_matrix(Yint, Pint, normalize=True, figsize=(12,12))\n",
    "    labels = sorted([label for label in list(set(Y)) if label not in ['O']])\n",
    "    print(metrics.classification_report(Y, P, labels=labels))\n",
    "    plt.show()"
   ]
  },
  {
   "cell_type": "code",
   "execution_count": 64,
   "metadata": {
    "collapsed": false
   },
   "outputs": [
    {
     "data": {
      "text/plain": [
       "Counter({'B.event.flood': 148,\n",
       "         'B.loc.focus': 148,\n",
       "         'B.loc.supp': 55,\n",
       "         'B.time': 43,\n",
       "         'I.event.flood': 68,\n",
       "         'I.loc.focus': 43,\n",
       "         'I.loc.supp': 20,\n",
       "         'I.time': 28,\n",
       "         'O': 20204})"
      ]
     },
     "execution_count": 64,
     "metadata": {},
     "output_type": "execute_result"
    }
   ],
   "source": [
    "testOut = open('data/MBTData/test.out', \"r\")\n",
    "lines = testOut.readlines()\n",
    "Y = []\n",
    "predictions = []\n",
    "for line in lines[7:]:\n",
    "    #print(line)\n",
    "    spacesplt = line.split(\"\\n\")[0]\n",
    "    #print(spacesplt)\n",
    "    tabsplt = spacesplt.split(\"\\t\")\n",
    "    if(len(tabsplt) > 1):\n",
    "        #print(tabsplt)\n",
    "        Y.append(tabsplt[-2])\n",
    "        predictions.append(tabsplt[-1])\n",
    "testOut.close()\n",
    "Counter(Y)"
   ]
  },
  {
   "cell_type": "code",
   "execution_count": 65,
   "metadata": {
    "collapsed": false
   },
   "outputs": [
    {
     "data": {
      "text/plain": [
       "Counter({'B.event.flood': 144,\n",
       "         'B.loc.focus': 102,\n",
       "         'B.loc.supp': 46,\n",
       "         'B.time': 53,\n",
       "         'I.event.flood': 40,\n",
       "         'I.loc.focus': 9,\n",
       "         'I.loc.supp': 6,\n",
       "         'I.time': 39,\n",
       "         'O': 19408})"
      ]
     },
     "execution_count": 65,
     "metadata": {},
     "output_type": "execute_result"
    }
   ],
   "source": [
    "trainf = open('data/MBTData/MBTTrain.data', \"r\")\n",
    "lines = trainf.readlines()\n",
    "Ytrain = []\n",
    "for line in lines:\n",
    "    spacesplt = line.split(\"\\n\")[0]\n",
    "    tabsplt = spacesplt.split(\" \")\n",
    "    if(len(tabsplt) > 1):\n",
    "        Ytrain.append(tabsplt[-1])\n",
    "trainf.close()\n",
    "Counter(Ytrain)"
   ]
  },
  {
   "cell_type": "code",
   "execution_count": 61,
   "metadata": {
    "collapsed": false
   },
   "outputs": [
    {
     "data": {
      "text/plain": [
       "['B.event.flood',\n",
       " 'B.loc.focus',\n",
       " 'B.loc.supp',\n",
       " 'B.time',\n",
       " 'I.event.flood',\n",
       " 'I.loc.focus',\n",
       " 'I.loc.supp',\n",
       " 'I.time']"
      ]
     },
     "execution_count": 61,
     "metadata": {},
     "output_type": "execute_result"
    }
   ],
   "source": [
    "labels = sorted([label for label in list(set(Y)) if label not in ['O']])\n",
    "labels"
   ]
  },
  {
   "cell_type": "code",
   "execution_count": 23,
   "metadata": {
    "collapsed": false
   },
   "outputs": [
    {
     "name": "stdout",
     "output_type": "stream",
     "text": [
      "               precision    recall  f1-score   support\n",
      "\n",
      "B.event.flood       0.35      0.30      0.32       148\n",
      "  B.loc.focus       0.35      0.23      0.28       148\n",
      "   B.loc.supp       0.43      0.36      0.39        55\n",
      "       B.time       0.28      0.26      0.27        43\n",
      "I.event.flood       0.43      0.32      0.37        68\n",
      "  I.loc.focus       0.25      0.09      0.14        43\n",
      "   I.loc.supp       0.20      0.05      0.08        20\n",
      "       I.time       0.12      0.11      0.12        28\n",
      "\n",
      "  avg / total       0.34      0.25      0.28       553\n",
      "\n"
     ]
    },
    {
     "data": {
      "image/png": "[encoded data removed]",
      "text/plain": [
       "<matplotlib.figure.Figure at 0x11c8d6cf8>"
      ]
     },
     "metadata": {},
     "output_type": "display_data"
    }
   ],
   "source": [
    "# %50 with PoS\n",
    "singleEvalGraphs(Y, predictions, labels)"
   ]
  },
  {
   "cell_type": "code",
   "execution_count": 158,
   "metadata": {
    "collapsed": false
   },
   "outputs": [
    {
     "name": "stdout",
     "output_type": "stream",
     "text": [
      "               precision    recall  f1-score   support\n",
      "\n",
      "B.event.flood       0.41      0.41      0.41       148\n",
      "  B.loc.focus       0.43      0.23      0.30       148\n",
      "   B.loc.supp       0.38      0.35      0.36        55\n",
      "       B.time       0.26      0.27      0.27        44\n",
      "I.event.flood       0.58      0.28      0.38        68\n",
      "  I.loc.focus       0.00      0.00      0.00        43\n",
      "   I.loc.supp       0.67      0.10      0.17        20\n",
      "       I.time       0.17      0.11      0.13        27\n",
      "\n",
      "  avg / total       0.39      0.27      0.31       553\n",
      "\n"
     ]
    },
    {
     "data": {
      "image/png": "[encoded data removed]",
      "text/plain": [
       "<matplotlib.figure.Figure at 0x11caf4b38>"
      ]
     },
     "metadata": {},
     "output_type": "display_data"
    }
   ],
   "source": [
    "# %50 stopwords removed\n",
    "singleEvalGraphs(Y, predictions, labels)"
   ]
  },
  {
   "cell_type": "raw",
   "metadata": {
    "collapsed": false
   },
   "source": [
    "testOut = open('data/MBTData/test.out', \"r\")\n",
    "\n",
    "lines = testOut.readlines()\n",
    "\n",
    "Y = []\n",
    "predictions = []\n",
    "\n",
    "for line in lines[7:]:\n",
    "    \n",
    "    #print(line)\n",
    "    \n",
    "    spacesplt = line.split(\" \")\n",
    "    \n",
    "    #print(spacesplt)\n",
    "    \n",
    "    if(len(spacesplt) > 1):\n",
    "        \n",
    "        #print('sp1:',spacesplt[1])\n",
    "        tabsplt = spacesplt[-1].split(\"\\t\")\n",
    "        #print(tabsplt)\n",
    "        y = tabsplt[1] \n",
    "        #print(y)\n",
    "        Y.append(y)\n",
    "        \n",
    "        prediction = tabsplt[2].split(\"\\n\")[0]\n",
    "        predictions.append(prediction)"
   ]
  }
 ],
 "metadata": {
  "kernelspec": {
   "display_name": "Python 3",
   "language": "python",
   "name": "python3"
  },
  "language_info": {
   "codemirror_mode": {
    "name": "ipython",
    "version": 3
   },
   "file_extension": ".py",
   "mimetype": "text/x-python",
   "name": "python",
   "nbconvert_exporter": "python",
   "pygments_lexer": "ipython3",
   "version": "3.5.1"
  }
 },
 "nbformat": 4,
 "nbformat_minor": 2
}
