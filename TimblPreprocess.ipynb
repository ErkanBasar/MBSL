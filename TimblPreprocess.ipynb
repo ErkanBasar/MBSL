{
 "cells": [
  {
   "cell_type": "code",
   "execution_count": 1,
   "metadata": {
    "collapsed": true
   },
   "outputs": [],
   "source": [
    "import re\n",
    "import json\n",
    "import glob\n",
    "import csv"
   ]
  },
  {
   "cell_type": "code",
   "execution_count": 194,
   "metadata": {
    "collapsed": false
   },
   "outputs": [
    {
     "data": {
      "text/plain": [
       "('EIFD-FlatData', '37', '1424', '2017-02-17T14:05:00')"
      ]
     },
     "execution_count": 194,
     "metadata": {},
     "output_type": "execute_result"
    }
   ],
   "source": [
    "files_feature = [xfile for xfile in glob.glob(\"data/Features/*.json\")]\n",
    "fileprefs = [re.findall('data/Features/(.*)_features_(.*)docs_(.*)labels_at(.*).json',ff)[0] for ff in files_feature]\n",
    "mostrecent = [file for file in fileprefs if file[3] == max([date[3] for date in fileprefs])][0]\n",
    "mostrecent"
   ]
  },
  {
   "cell_type": "code",
   "execution_count": 195,
   "metadata": {
    "collapsed": true
   },
   "outputs": [],
   "source": [
    "with open('data/Features/' + mostrecent[0] + '_features_' + mostrecent[1] + 'docs_' \n",
    "          + mostrecent[2] + 'labels_at' + mostrecent[3] + '.json', 'r') as f:\n",
    "    featlist = json.load(f)"
   ]
  },
  {
   "cell_type": "code",
   "execution_count": 196,
   "metadata": {
    "collapsed": true
   },
   "outputs": [],
   "source": [
    "for i,feat in enumerate(featlist):\n",
    "    for key,val in feat.items():\n",
    "        if(val==''):\n",
    "            featlist[i][key]=\"None\""
   ]
  },
  {
   "cell_type": "code",
   "execution_count": 197,
   "metadata": {
    "collapsed": false
   },
   "outputs": [
    {
     "data": {
      "text/plain": [
       "31978"
      ]
     },
     "execution_count": 197,
     "metadata": {},
     "output_type": "execute_result"
    }
   ],
   "source": [
    "# Included classes\n",
    "includedclasses = [\"O\",\"B.event.flood\", \"I.event.flood\"]\n",
    "for feat in featlist:\n",
    "    if(feat[\"class\"] not in includedclasses):\n",
    "        feat[\"class\"] = \"O\"\n",
    "len(featlist)"
   ]
  },
  {
   "cell_type": "code",
   "execution_count": 159,
   "metadata": {
    "collapsed": false
   },
   "outputs": [
    {
     "data": {
      "text/plain": [
       "1184"
      ]
     },
     "execution_count": 159,
     "metadata": {},
     "output_type": "execute_result"
    }
   ],
   "source": [
    "featlist = [feat for feat in featlist if feat[\"class\"] not in [\"O\",\"B.dmg.ppl.miss\",\"B.dmg.bus\",\"I.dmg.bus\",\"I.dmg.ppl.miss\",\"B.loc.supp\",\"I.loc.supp\",\"B.loc.other\",\"I.loc.other\",\"B.resp.supply\",\"I.resp.supply\",\"B.dmg.econ\",\"I.dmg.econ\"]]\n",
    "len(featlist)"
   ]
  },
  {
   "cell_type": "code",
   "execution_count": 198,
   "metadata": {
    "collapsed": false
   },
   "outputs": [
    {
     "data": {
      "text/plain": [
       "25582"
      ]
     },
     "execution_count": 198,
     "metadata": {},
     "output_type": "execute_result"
    }
   ],
   "source": [
    "splt = int((80 * len(featlist)) / 100.0)\n",
    "splt"
   ]
  },
  {
   "cell_type": "code",
   "execution_count": 199,
   "metadata": {
    "collapsed": true
   },
   "outputs": [],
   "source": [
    "trainlist = featlist[:splt]\n",
    "testlist = featlist[splt:]"
   ]
  },
  {
   "cell_type": "code",
   "execution_count": 200,
   "metadata": {
    "collapsed": true
   },
   "outputs": [],
   "source": [
    "notUsedFeatures = [\"class\", \"foliaId\"]#,\"isTitleCase\",\"wordClass\",\"+1:wordClass\",\"-1:wordClass\",\"-2:ner\",\"+2:ner\",\"+2:pos\",\"-2:pos\",\"-1:pos\",\"+1:pos\",\"pos\"]"
   ]
  },
  {
   "cell_type": "code",
   "execution_count": 201,
   "metadata": {
    "collapsed": false
   },
   "outputs": [],
   "source": [
    "timblefile= open('data/TimblData/flooddata.train', \"w\")\n",
    "\n",
    "for i,feat in enumerate(trainlist):\n",
    "    for key,val in feat.items():\n",
    "        if(key not in notUsedFeatures):\n",
    "            #print(key +'\\t\\t'+ val)\n",
    "            timblefile.write(trainlist[i][key] + '\\t')\n",
    "    timblefile.write(trainlist[i][\"class\"] + '\\n')\n",
    "\n",
    "\n",
    "timblefile.close()"
   ]
  },
  {
   "cell_type": "code",
   "execution_count": 202,
   "metadata": {
    "collapsed": true
   },
   "outputs": [],
   "source": [
    "timblefile= open('data/TimblData/flooddata.test', \"w\")\n",
    "\n",
    "for i,feat in enumerate(testlist):\n",
    "    for key,val in feat.items():\n",
    "        if(key!=\"class\" and key!=\"foliaId\"):\n",
    "            #print(key +'\\t\\t'+ val)\n",
    "            timblefile.write(testlist[i][key] + '\\t')\n",
    "    timblefile.write(testlist[i][\"class\"] + '\\n')\n",
    "\n",
    "\n",
    "timblefile.close()"
   ]
  },
  {
   "cell_type": "code",
   "execution_count": 203,
   "metadata": {
    "collapsed": false
   },
   "outputs": [
    {
     "name": "stdout",
     "output_type": "stream",
     "text": [
      "1 -1:token|token|+1:token\n",
      "2 -2:ner\n",
      "3 ner|+1:ner\n",
      "4 -2:token|-1:token|token\n",
      "5 ner|+1:ner|+2:ner\n",
      "6 token\n",
      "7 -1:wordClass\n",
      "8 token|+1:token|+2:token\n",
      "9 -1:token|token\n",
      "10 -1:ner\n",
      "11 -2:token\n",
      "12 -1:pos\n",
      "13 -2:ner|-1:ner|ner\n",
      "14 -1:token\n",
      "15 -1:pos|pos|+1:pos\n",
      "16 token|+1:token\n",
      "17 wordClass\n",
      "18 pos|+1:pos\n",
      "19 +1:wordClass\n",
      "20 pos\n",
      "21 isTitleCase\n",
      "22 -2:pos|-1:pos|pos\n",
      "23 +1:pos\n",
      "24 ner\n",
      "25 pos|+1:pos|+2:pos\n",
      "26 +2:token\n",
      "27 -2:pos\n",
      "28 -1:ner|ner\n",
      "29 +1:token\n",
      "30 -1:pos|pos\n",
      "31 -1:ner|ner|+1:ner\n",
      "32 +2:ner\n",
      "33 +1:ner\n",
      "34 +2:pos\n"
     ]
    }
   ],
   "source": [
    "i=1\n",
    "for key,val in featlist[0].items():\n",
    "    if(key not in notUsedFeatures):\n",
    "        print(i,key)\n",
    "        i += 1"
   ]
  },
  {
   "cell_type": "code",
   "execution_count": null,
   "metadata": {
    "collapsed": true
   },
   "outputs": [],
   "source": []
  }
 ],
 "metadata": {
  "kernelspec": {
   "display_name": "Python 3",
   "language": "python",
   "name": "python3"
  },
  "language_info": {
   "codemirror_mode": {
    "name": "ipython",
    "version": 3
   },
   "file_extension": ".py",
   "mimetype": "text/x-python",
   "name": "python",
   "nbconvert_exporter": "python",
   "pygments_lexer": "ipython3",
   "version": "3.5.1"
  }
 },
 "nbformat": 4,
 "nbformat_minor": 2
}
