{
 "cells": [
  {
   "cell_type": "code",
   "execution_count": 1,
   "metadata": {
    "collapsed": false
   },
   "outputs": [],
   "source": [
    "import os\n",
    "#import re\n",
    "import sys\n",
    "#import json\n",
    "import glob\n",
    "import random\n",
    "#import pickle\n",
    "import subprocess\n",
    "from datetime import datetime\n",
    "from collections import Counter\n",
    "from joblib import Parallel, delayed\n",
    "\n",
    "import numpy as np\n",
    "import pandas as pd\n",
    "\n",
    "from nltk.corpus import stopwords as sw\n",
    "\n",
    "import matplotlib.pyplot as plt\n",
    "#import scikitplot.plotters as skplt\n",
    "#from sklearn import metrics\n",
    "\n",
    "from pynlpl.formats import folia\n",
    "\n",
    "# Customs\n",
    "#import get_folia_tokens as gft\n",
    "\n",
    "%matplotlib inline"
   ]
  },
  {
   "cell_type": "code",
   "execution_count": 2,
   "metadata": {
    "collapsed": false
   },
   "outputs": [],
   "source": [
    "def getAnnotatedDocs(inputfolder='../EIFD/data/EIFD-FlatData', foliaset='https://raw.githubusercontent.com/ErkanBasar/mebasarcom/master/eifd.foliaset.xml'):\n",
    "    return [xfile for xfile in glob.glob(inputfolder +'/*.folia.xml') if folia.Document(file=xfile).declared(folia.Entity, foliaset)]"
   ]
  },
  {
   "cell_type": "code",
   "execution_count": 3,
   "metadata": {
    "collapsed": false
   },
   "outputs": [],
   "source": [
    "mbt_folder = 'data/MBTData/'\n",
    "mbt_cv_folder = mbt_folder + 'Cross-validated/'"
   ]
  },
  {
   "cell_type": "code",
   "execution_count": 4,
   "metadata": {
    "collapsed": false
   },
   "outputs": [],
   "source": [
    "annotdocs = getAnnotatedDocs()"
   ]
  },
  {
   "cell_type": "markdown",
   "metadata": {},
   "source": [
    "## Feature Extraction"
   ]
  },
  {
   "cell_type": "code",
   "execution_count": 5,
   "metadata": {
    "collapsed": true
   },
   "outputs": [],
   "source": [
    "notstop = ['this', 'until', 'about', 'above' , 'over' , 'under' , 'more', 'some', 'few', 'than', 'now', 'at']\n",
    "stopwords = [word for word in sw.words('english') if word not in notstop]\n",
    "#ignored = ['dmg.ppl.inj', 'dmg.ppl.miss', 'dmg.bus', 'dmg.econ', 'loc.other']"
   ]
  },
  {
   "cell_type": "code",
   "execution_count": 6,
   "metadata": {
    "collapsed": false
   },
   "outputs": [],
   "source": [
    "class Token(object):\n",
    "    \n",
    "    def __init__(self, folia_obj):\n",
    "        self.obj = folia_obj\n",
    "        self.cls = 'O'\n",
    "        self.ner = '---'\n",
    "        self.previous = None\n",
    "        self.next = None\n",
    "        if(self.obj is None):\n",
    "            self.foliaId = '---'\n",
    "            self.text = '---'\n",
    "            self.pos = '---'\n",
    "        else:\n",
    "            self.foliaId = self.obj.id\n",
    "            self.text = self.obj.text()\n",
    "            self.pos = self.obj.pos()\n",
    "\n",
    "    def getClass(self, classes):\n",
    "        if(self.obj is not None):\n",
    "            for entity in self.obj.findspans(folia.Entity):\n",
    "                if(entity.annotatortype == folia.AnnotatorType.MANUAL):\n",
    "                    if(entity.cls in classes):\n",
    "                        if(entity.cls == 'loc.other'):\n",
    "                            entityclass = 'loc.focus' \n",
    "                        else:\n",
    "                            entityclass = entity.cls \n",
    "                        self.cls = 'B.' + entityclass\n",
    "                        if(self.previous == None):\n",
    "                            self.cls = 'B.' + entityclass \n",
    "                        else:\n",
    "                            for prevEntity in self.previous.findspans(folia.Entity):\n",
    "                                if(entity.id == prevEntity.id and prevEntity.annotatortype == folia.AnnotatorType.MANUAL):\n",
    "                                    self.cls = 'I.' + entityclass\n",
    "        return self.cls\n",
    "    \n",
    "    def getNer(self):\n",
    "        if(self.obj is not None):\n",
    "            for entity in self.obj.findspans(folia.Entity):\n",
    "                if(entity.annotator == 'nltk-stanford'):\n",
    "                    self.ner = entity.cls\n",
    "        return self.ner\n",
    "    \n",
    "    def getPrevious(self):\n",
    "        if self.obj is not None and self.obj.previous(folia.Word, [folia.Sentence]) is not None:\n",
    "            self.previous = self.obj.previous(folia.Word, [folia.Sentence])\n",
    "        return self.previous\n",
    "    \n",
    "    def getNext(self):\n",
    "        if self.obj is not None and self.obj.next(folia.Word, [folia.Sentence]) is not None:\n",
    "            self.next = self.obj.next(folia.Word, [folia.Sentence])\n",
    "        return self.next\n",
    "    \n",
    "    def kill(self):\n",
    "        del self"
   ]
  },
  {
   "cell_type": "code",
   "execution_count": 7,
   "metadata": {
    "collapsed": true
   },
   "outputs": [],
   "source": [
    "def create_line(token, classes):\n",
    "    prevToken = Token(token.getPrevious())\n",
    "    line = token.text + ' ' + token.pos + ' ' + token.getNer() + ' '\n",
    "    line = line + str(token.getClass(classes)) + '\\n'\n",
    "    return line"
   ]
  },
  {
   "cell_type": "raw",
   "metadata": {
    "collapsed": false
   },
   "source": [
    "# doc = folia.Document(file=sorted(annotdocs)[0])\n",
    "create_line(Token(doc['content0.p.1.s.1.w.1']), ['event.flood'])"
   ]
  },
  {
   "cell_type": "code",
   "execution_count": 8,
   "metadata": {
    "collapsed": false
   },
   "outputs": [],
   "source": [
    "def create_mbt_file(filelist, outfilepath, classes):\n",
    "    filelist = [filelist] if(type(filelist) == str) else filelist\n",
    "    if(type(filelist) == list and len(filelist) >= 1):\n",
    "        outfile = open(outfilepath, 'w')\n",
    "        for filepath in filelist:\n",
    "            for doc in folia.Document(file=filepath):\n",
    "                for sentence in doc.sentences():\n",
    "                    for word in sentence.words():\n",
    "                        token = Token(word)\n",
    "                        outfile.write(create_line(token, classes))\n",
    "                    outfile.write('<utt>\\n')\n",
    "        outfile.close()\n",
    "    else:\n",
    "        print('Input may be wrong. It should be a list of file paths or a single string file path.')\n",
    "        print('Input type you tried: ' + str(type(filelist)))\n",
    "        sys.exit()"
   ]
  },
  {
   "cell_type": "markdown",
   "metadata": {},
   "source": [
    "# Article Cross-validater"
   ]
  },
  {
   "cell_type": "code",
   "execution_count": 9,
   "metadata": {
    "collapsed": false
   },
   "outputs": [],
   "source": [
    "def get_cv_chunks(doclist, n, shuffle=True):\n",
    "    if(shuffle):\n",
    "        random.shuffle(doclist)\n",
    "    return [doclist[i:i + n] for i in range(0, len(doclist), n)]"
   ]
  },
  {
   "cell_type": "code",
   "execution_count": 10,
   "metadata": {
    "collapsed": false
   },
   "outputs": [],
   "source": [
    "def create_cv_files(cv_label_folder, cv_chunks, doclist, classes):\n",
    "    Parallel(n_jobs=-2)(delayed(split_per_chunk)(cv_label_folder, classes, doclist, testdocs, i) for i, testdocs in enumerate(cv_chunks))"
   ]
  },
  {
   "cell_type": "code",
   "execution_count": 11,
   "metadata": {
    "collapsed": true
   },
   "outputs": [],
   "source": [
    "def split_per_chunk(cv_label_folder, classes, doclist, testdocs, i):\n",
    "    traindocs = [doc for doc in doclist if doc not in testdocs]\n",
    "    os.makedirs(os.path.dirname(cv_label_folder + '/CV_' + str(i) + '/'), exist_ok=True)\n",
    "    create_mbt_file(traindocs, cv_label_folder + '/CV_' + str(i) + '/MBTTrain_cv' + str(i) + '.data', classes)\n",
    "    create_mbt_file(testdocs, cv_label_folder + '/CV_' + str(i) + '/MBTTest_cv' + str(i) + '.data', classes)"
   ]
  },
  {
   "cell_type": "markdown",
   "metadata": {},
   "source": [
    "## Run MBT"
   ]
  },
  {
   "cell_type": "code",
   "execution_count": 12,
   "metadata": {
    "collapsed": false
   },
   "outputs": [],
   "source": [
    "def run_mbt(cv_label_folder, known_words='dwdwfWawaw', unknown_words='cndwdwFawaw'):\n",
    "    Parallel(n_jobs=-2)(delayed(run_on_single_chunk)(cv_label_folder, label_folder, known_words, unknown_words) for label_folder in glob.glob(cv_label_folder +'/CV_*'))"
   ]
  },
  {
   "cell_type": "code",
   "execution_count": 13,
   "metadata": {
    "collapsed": true
   },
   "outputs": [],
   "source": [
    "def run_on_single_chunk(cv_label_folder, label_folder, known_words='dwdwfWawaw', unknown_words='cndwdwFawaw'):\n",
    "    i = label_folder.split('CV_')[1]\n",
    "    p = subprocess.Popen(['mbtg', '-E', 'MBTTrain_cv' + str(i) + '.data', '-p', known_words, '-P', unknown_words], \n",
    "                         cwd=cv_label_folder + '/CV_' + str(i) + '/')\n",
    "    p.wait()\n",
    "    testOut = open(cv_label_folder + '/CV_' + str(i) + '/test_cv' + str(i) + '.out', 'w') \n",
    "    p = subprocess.Popen(['mbt', '-s', 'MBTTrain_cv' + str(i) + '.data.settings', '-E','MBTTest_cv' + str(i) + '.data'], \n",
    "                         stdout=testOut, cwd=cv_label_folder + '/CV_' + str(i) + '/')\n",
    "    p.wait()"
   ]
  },
  {
   "cell_type": "markdown",
   "metadata": {},
   "source": [
    "# Evaluation"
   ]
  },
  {
   "cell_type": "code",
   "execution_count": 26,
   "metadata": {
    "collapsed": true
   },
   "outputs": [],
   "source": [
    "def conll_tag(tag):\n",
    "    if(tag is not 'O'):\n",
    "        tagsplt = tag.split('.')\n",
    "        IOB = tagsplt[0]\n",
    "        del tagsplt[0]\n",
    "        rest = '_'.join(tagsplt)\n",
    "        tag = IOB + '-' + rest\n",
    "    return tag"
   ]
  },
  {
   "cell_type": "code",
   "execution_count": 15,
   "metadata": {
    "collapsed": false
   },
   "outputs": [],
   "source": [
    "def merged_cv_evaluation(cv_label_folder):\n",
    "    outfile = open(cv_label_folder + '/test.out', 'w')\n",
    "    for label_folder in glob.glob(cv_label_folder +'/CV_*'):\n",
    "        i = label_folder.split('CV_')[1]\n",
    "        testOut = open(label_folder + '/test_cv' + str(i) + '.out', 'r')\n",
    "        outcv = open(label_folder + '/testconll_cv' + str(i) + '.out', 'w')\n",
    "        lines = testOut.readlines()\n",
    "        for line in lines[7:]:\n",
    "            spacesplt = line.split('\\n')[0]\n",
    "            tabsplt = spacesplt.split('\\t')\n",
    "            Y = tabsplt[-2]\n",
    "            P = tabsplt[-1]\n",
    "            if(len(tabsplt) > 1):\n",
    "                line = tabsplt[0] + ' ' + conll_tag(Y) + ' ' + conll_tag(P) + '\\n'\n",
    "                outcv.write(line)\n",
    "                outfile.write(line)\n",
    "            else:\n",
    "                outcv.write('\\n')\n",
    "                outfile.write('\\n')\n",
    "        outcv.close()        \n",
    "        testOut.close()\n",
    "        outfile.write('\\n')\n",
    "    outfile.close()\n",
    "    os.system('perl conlleval.pl <' + cv_label_folder + '/test.out >' + cv_label_folder + '/eval.out')"
   ]
  },
  {
   "cell_type": "code",
   "execution_count": 16,
   "metadata": {
    "collapsed": false
   },
   "outputs": [],
   "source": [
    "def get_eval_scores(cv_label_folder):\n",
    "    testeval = open(cv_label_folder + '/eval.out', 'r')\n",
    "    scores = {}\n",
    "    for line in testeval:\n",
    "        info = list(filter(lambda a: a != '', line.split(' ')))\n",
    "        if('processed' in info):\n",
    "            continue\n",
    "        elif('accuracy:' in info):\n",
    "            scores['average'] = {}\n",
    "            scores['average']['accuracy'] = float(info[1].split('%')[0])\n",
    "            scores['average']['precision'] = float(info[3].split('%')[0])\n",
    "            scores['average']['recall'] = float(info[5].split('%')[0])\n",
    "            scores['average']['f1-score'] = float(info[7].split('\\n')[0])\n",
    "        else:\n",
    "            label = info[0].split(':')[0]\n",
    "            scores[label] = {}\n",
    "            scores[label]['precision'] = float(info[2].split('%')[0])\n",
    "            scores[label]['recall'] = float(info[4].split('%')[0])\n",
    "            scores[label]['f1-score'] = float(info[6])\n",
    "            scores[label]['support'] = int(info[7].split('\\n')[0])\n",
    "    return scores"
   ]
  },
  {
   "cell_type": "code",
   "execution_count": 31,
   "metadata": {
    "collapsed": false
   },
   "outputs": [],
   "source": [
    "def draw_prf1_bar(scores):\n",
    "    precision = []\n",
    "    recall = []\n",
    "    f1_score = []\n",
    "    labels = []\n",
    "    for s in scores.items():\n",
    "        labels.append(s[0])\n",
    "        precision.append(s[1]['precision'])\n",
    "        recall.append(s[1]['recall'])\n",
    "        f1_score.append(s[1]['f1-score'])\n",
    "    index = np.arange(len(labels))\n",
    "    fig, ax = plt.subplots()\n",
    "    fig.set_size_inches(15, 6)\n",
    "    bar_width = 0.25\n",
    "    opacity = 0.75\n",
    "    ax.bar(index, precision, bar_width, color='b', label='Precision')\n",
    "    ax.bar(index + bar_width, recall, bar_width, color='m', label='Recall', alpha=opacity)\n",
    "    ax.bar(index + (2*bar_width), f1_score, bar_width, color='c', label='F1-score', alpha=opacity)\n",
    "    ax.set_xticks(index + bar_width)\n",
    "    ax.set_xticklabels(labels, rotation=75)\n",
    "    ax.legend()\n",
    "    plt.xlabel('Labels')\n",
    "    plt.ylabel('Scores')\n",
    "    plt.title('Scores by Label')\n",
    "    plt.show()"
   ]
  },
  {
   "cell_type": "markdown",
   "metadata": {},
   "source": [
    "# Main"
   ]
  },
  {
   "cell_type": "code",
   "execution_count": 32,
   "metadata": {
    "collapsed": true
   },
   "outputs": [],
   "source": [
    "def main(cv_label_folder, cv_chunks, doclist, classes):\n",
    "    create_cv_files(cv_label_folder, cv_chunks, doclist, classes)\n",
    "    run_mbt(cv_label_folder)\n",
    "    merged_cv_evaluation(cv_label_folder)"
   ]
  },
  {
   "cell_type": "markdown",
   "metadata": {},
   "source": [
    "# Initialize Chunks"
   ]
  },
  {
   "cell_type": "code",
   "execution_count": 33,
   "metadata": {
    "collapsed": false
   },
   "outputs": [],
   "source": [
    "cv_chunks = get_cv_chunks(annotdocs, 1)"
   ]
  },
  {
   "cell_type": "markdown",
   "metadata": {},
   "source": [
    "# 4 Major Classes"
   ]
  },
  {
   "cell_type": "code",
   "execution_count": 34,
   "metadata": {
    "collapsed": true
   },
   "outputs": [],
   "source": [
    "major_classes = ['event.flood', 'loc.focus', 'loc.supp', 'time']"
   ]
  },
  {
   "cell_type": "code",
   "execution_count": 35,
   "metadata": {
    "collapsed": false
   },
   "outputs": [],
   "source": [
    "main(mbt_cv_folder + 'major_classes', cv_chunks, annotdocs, major_classes)"
   ]
  },
  {
   "cell_type": "code",
   "execution_count": 36,
   "metadata": {
    "collapsed": true
   },
   "outputs": [],
   "source": [
    "scores_major = get_eval_scores(mbt_cv_folder + 'major_classes')"
   ]
  },
  {
   "cell_type": "code",
   "execution_count": 37,
   "metadata": {
    "collapsed": false
   },
   "outputs": [
    {
     "data": {
      "image/png": "[encoded data removed]",
      "text/plain": [
       "<matplotlib.figure.Figure at 0x11b5c5f98>"
      ]
     },
     "metadata": {},
     "output_type": "display_data"
    }
   ],
   "source": [
    "# leave one out\n",
    "draw_prf1_bar(scores_major)"
   ]
  },
  {
   "cell_type": "markdown",
   "metadata": {},
   "source": [
    "# All Classes"
   ]
  },
  {
   "cell_type": "code",
   "execution_count": 140,
   "metadata": {
    "collapsed": true
   },
   "outputs": [],
   "source": [
    "all_classes = ['event.flood', 'loc.focus', 'loc.supp', 'time', 'dmg.ppl.evac', 'dmg.ppl.kill', 'dmg.prop', 'resp.donat', 'resp.supply']"
   ]
  },
  {
   "cell_type": "code",
   "execution_count": 141,
   "metadata": {
    "collapsed": true
   },
   "outputs": [],
   "source": [
    "main(mbt_cv_folder + 'all_classes', cv_chunks, annotdocs, all_classes)"
   ]
  },
  {
   "cell_type": "code",
   "execution_count": 39,
   "metadata": {
    "collapsed": true
   },
   "outputs": [],
   "source": [
    "scores_all = get_eval_scores(mbt_cv_folder + 'all_classes')"
   ]
  },
  {
   "cell_type": "code",
   "execution_count": 40,
   "metadata": {
    "collapsed": false
   },
   "outputs": [
    {
     "data": {
      "image/png": "[encoded data removed]",
      "text/plain": [
       "<matplotlib.figure.Figure at 0x11b5c5be0>"
      ]
     },
     "metadata": {},
     "output_type": "display_data"
    }
   ],
   "source": [
    "# leave one out\n",
    "draw_prf1_bar(scores_all)"
   ]
  },
  {
   "cell_type": "markdown",
   "metadata": {},
   "source": [
    "# Binary Classifiers "
   ]
  },
  {
   "cell_type": "code",
   "execution_count": 19,
   "metadata": {
    "collapsed": true
   },
   "outputs": [],
   "source": [
    "binary_classes = ['event.flood', 'loc.focus', 'loc.supp', 'time', 'dmg.ppl.evac', 'dmg.ppl.kill', 'dmg.prop', 'resp.donat', 'resp.supply']"
   ]
  },
  {
   "cell_type": "code",
   "execution_count": 159,
   "metadata": {
    "collapsed": false
   },
   "outputs": [],
   "source": [
    "for cls in binary_classes:\n",
    "    main(mbt_cv_folder + 'Binaries/' + cls, cv_chunks, annotdocs, [cls])"
   ]
  },
  {
   "cell_type": "code",
   "execution_count": 27,
   "metadata": {
    "collapsed": false
   },
   "outputs": [],
   "source": [
    "scores_binary = {}\n",
    "for cls in binary_classes:\n",
    "    scores_binary[cls] = get_eval_scores(mbt_cv_folder + 'Binaries/' + cls)['_'.join(cls.split('.'))]"
   ]
  },
  {
   "cell_type": "code",
   "execution_count": 23,
   "metadata": {
    "collapsed": false
   },
   "outputs": [
    {
     "data": {
      "image/png": "[encoded data removed]",
      "text/plain": [
       "<matplotlib.figure.Figure at 0x105623cc0>"
      ]
     },
     "metadata": {},
     "output_type": "display_data"
    }
   ],
   "source": [
    "# leave one out\n",
    "draw_prf1_bar(scores_binary)"
   ]
  }
 ],
 "metadata": {
  "kernelspec": {
   "display_name": "Python 3",
   "language": "python",
   "name": "python3"
  },
  "language_info": {
   "codemirror_mode": {
    "name": "ipython",
    "version": 3
   },
   "file_extension": ".py",
   "mimetype": "text/x-python",
   "name": "python",
   "nbconvert_exporter": "python",
   "pygments_lexer": "ipython3",
   "version": "3.5.1"
  }
 },
 "nbformat": 4,
 "nbformat_minor": 2
}
